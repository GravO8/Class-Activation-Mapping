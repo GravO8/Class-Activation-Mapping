{
 "cells": [
  {
   "cell_type": "markdown",
   "metadata": {
    "id": "n76__KfxKtYM"
   },
   "source": [
    "# CAM - class activation map"
   ]
  },
  {
   "cell_type": "markdown",
   "metadata": {
    "id": "eEHT9uohQB-P"
   },
   "source": [
    "# Define models"
   ]
  },
  {
   "cell_type": "code",
   "execution_count": 1,
   "metadata": {
    "executionInfo": {
     "elapsed": 1550,
     "status": "ok",
     "timestamp": 1631344811347,
     "user": {
      "displayName": "Gonçalo Rodrigues Alves Valente Oliveira",
      "photoUrl": "https://lh3.googleusercontent.com/a/default-user=s64",
      "userId": "07160244029176424287"
     },
     "user_tz": -60
    },
    "id": "wPDomzN6TS4U"
   },
   "outputs": [],
   "source": [
    "import time\n",
    "import matplotlib.pyplot as plt\n",
    "from sklearn.metrics import confusion_matrix\n",
    "\n",
    "def plot_and_save(model_train, model_name):\n",
    "  fig, (loss_ax, acc_ax) = plt.subplots(1, 2, figsize=(20,7))\n",
    "  loss_ax.set_title('Loss')\n",
    "  loss_ax.plot(model_train.history['loss'], '-r', label='Train')\n",
    "  loss_ax.plot(model_train.history['val_loss'], '-g', label='Validation')\n",
    "  acc_ax.set_title('Accuracy')\n",
    "  acc_ax.plot(model_train.history['accuracy'], '-r', label='Train')\n",
    "  acc_ax.plot(model_train.history['val_accuracy'], '-g', label='Validation')\n",
    "  plt.legend(loc = 4)\n",
    "  figname = \"{}.png\".format(model_name)\n",
    "  plt.savefig(figname)\n",
    "\n",
    "\n",
    "def test_train(model, model_name: str, model_description: str):\n",
    "  model_weights = \"{}.h5\".format(model_name)\n",
    "  earlystop = tf.keras.callbacks.EarlyStopping(monitor = 'val_accuracy', patience = 10, verbose = 1)\n",
    "  checkpoint = tf.keras.callbacks.ModelCheckpoint(model_weights, \n",
    "                                                  monitor         = 'val_accuracy', \n",
    "                                                  verbose         = 1, \n",
    "                                                  save_best_only  = True)\n",
    "  start = time.time()\n",
    "  model_train = model.fit(mnist_train_x, \n",
    "                          mnist_train_y, \n",
    "                          validation_split  = 0.2, \n",
    "                          callbacks         = [earlystop, checkpoint], \n",
    "                          epochs            = 10000, \n",
    "                          batch_size        = 256)\n",
    "  elapsed = time.time() - start\n",
    "  model.load_weights(model_weights)\n",
    "  plot_and_save(model_train, model_name)\n",
    "  print(model_name)\n",
    "  _, train_acc = model.evaluate(mnist_train_x, mnist_train_y)\n",
    "  print('Train accuracy: {}'.format(train_acc))\n",
    "  _, test_acc = model.evaluate(mnist_test_x, mnist_test_y)\n",
    "  print('Test accuracy: {}'.format(test_acc))\n",
    "  with open(\"results.csv\", \"a\") as f:\n",
    "    f.write(\"{};{};{};{};{}\\n\".format(model_name, model_description, elapsed, train_acc, test_acc))\n",
    "  confusion_train, confusion_test = \"{}-confusion_train.csv\".format(model_name), \"{}-confusion_test.csv\".format(model_name)\n",
    "  np.savetxt(confusion_train, confusion_matrix(mnist_train_y, np.argmax(model.predict(mnist_train_x),axis=1)), delimiter=\",\")\n",
    "  np.savetxt(confusion_test, confusion_matrix(mnist_test_y, np.argmax(model.predict(mnist_test_x),axis=1)), delimiter=\",\")\n",
    "  print(\"----------------------------------------------------------------------\")\n",
    "\n",
    "def model_summary(model):\n",
    "  string_list = []\n",
    "  model.summary(print_fn=lambda x: string_list.append(x))\n",
    "  short_model_summary = \"\\n\".join(string_list)\n",
    "  return short_model_summary"
   ]
  },
  {
   "cell_type": "code",
   "execution_count": 2,
   "metadata": {
    "colab": {
     "base_uri": "https://localhost:8080/",
     "height": 185,
     "referenced_widgets": [
      "07c03a33f6ce46c6b24debc28b3d0397",
      "d9fb4899e1e54d2e9702a440e23bc5c6",
      "3d112511a68b43868483f7507a51cde0",
      "f152fbda401a4067888dd4c493e465a8",
      "4fefd6c44fea401ea5fe6b9e9683f480",
      "411f745363c3410993150003df39d22d",
      "fea8bda4836e46c98c2c88c2a9ef0b15",
      "d53d671f83ef4d72a68760c53fcd25dc",
      "9855a505fe9d482aad1ec2532139675c",
      "f6a1aa420202435584ecd3701e29251c",
      "8f81689417ed4041a30039d8c96dc92f"
     ]
    },
    "executionInfo": {
     "elapsed": 4446,
     "status": "ok",
     "timestamp": 1631344817903,
     "user": {
      "displayName": "Gonçalo Rodrigues Alves Valente Oliveira",
      "photoUrl": "https://lh3.googleusercontent.com/a/default-user=s64",
      "userId": "07160244029176424287"
     },
     "user_tz": -60
    },
    "id": "QI0-C08OKlmd",
    "outputId": "9fff2df3-8a80-41fe-99f6-488b842cd5ef"
   },
   "outputs": [
    {
     "ename": "ModuleNotFoundError",
     "evalue": "No module named 'tensorflow_datasets'",
     "output_type": "error",
     "traceback": [
      "\u001b[0;31m---------------------------------------------------------------------------\u001b[0m",
      "\u001b[0;31mModuleNotFoundError\u001b[0m                       Traceback (most recent call last)",
      "\u001b[0;32m<ipython-input-2-d3019b9f0fd4>\u001b[0m in \u001b[0;36m<module>\u001b[0;34m\u001b[0m\n\u001b[0;32m----> 1\u001b[0;31m \u001b[0;32mimport\u001b[0m \u001b[0mtensorflow_datasets\u001b[0m \u001b[0;32mas\u001b[0m \u001b[0mtfds\u001b[0m\u001b[0;34m\u001b[0m\u001b[0;34m\u001b[0m\u001b[0m\n\u001b[0m\u001b[1;32m      2\u001b[0m \u001b[0;34m\u001b[0m\u001b[0m\n\u001b[1;32m      3\u001b[0m \u001b[0mmnist_data\u001b[0m\u001b[0;34m,\u001b[0m \u001b[0mmnist_info\u001b[0m \u001b[0;34m=\u001b[0m \u001b[0mtfds\u001b[0m\u001b[0;34m.\u001b[0m\u001b[0mload\u001b[0m\u001b[0;34m(\u001b[0m\u001b[0;34m'mnist'\u001b[0m\u001b[0;34m,\u001b[0m \u001b[0mwith_info\u001b[0m\u001b[0;34m=\u001b[0m\u001b[0;32mTrue\u001b[0m\u001b[0;34m)\u001b[0m\u001b[0;34m\u001b[0m\u001b[0;34m\u001b[0m\u001b[0m\n",
      "\u001b[0;31mModuleNotFoundError\u001b[0m: No module named 'tensorflow_datasets'"
     ]
    }
   ],
   "source": [
    "import tensorflow_datasets as tfds\n",
    "\n",
    "mnist_data, mnist_info = tfds.load('mnist', with_info=True)"
   ]
  },
  {
   "cell_type": "code",
   "execution_count": 4,
   "metadata": {
    "executionInfo": {
     "elapsed": 40199,
     "status": "ok",
     "timestamp": 1631344858095,
     "user": {
      "displayName": "Gonçalo Rodrigues Alves Valente Oliveira",
      "photoUrl": "https://lh3.googleusercontent.com/a/default-user=s64",
      "userId": "07160244029176424287"
     },
     "user_tz": -60
    },
    "id": "TOY7YfOZKr0D"
   },
   "outputs": [],
   "source": [
    "import numpy as np\n",
    "\n",
    "mnist_train_x = np.asarray([instance['image']/255 for instance in tfds.as_numpy(mnist_data['train'])])\n",
    "mnist_train_y = np.asarray([instance['label'] for instance in tfds.as_numpy(mnist_data['train'])])\n",
    "\n",
    "mnist_test_x = np.asarray([instance['image']/255 for instance in tfds.as_numpy(mnist_data['test'])])\n",
    "mnist_test_y = np.asarray([instance['label'] for instance in tfds.as_numpy(mnist_data['test'])])"
   ]
  },
  {
   "cell_type": "code",
   "execution_count": 5,
   "metadata": {
    "colab": {
     "base_uri": "https://localhost:8080/"
    },
    "executionInfo": {
     "elapsed": 10,
     "status": "ok",
     "timestamp": 1631344858096,
     "user": {
      "displayName": "Gonçalo Rodrigues Alves Valente Oliveira",
      "photoUrl": "https://lh3.googleusercontent.com/a/default-user=s64",
      "userId": "07160244029176424287"
     },
     "user_tz": -60
    },
    "id": "q2bNImSxPwee",
    "outputId": "93a87223-9008-4221-be3a-0bb242e3a2b4"
   },
   "outputs": [
    {
     "data": {
      "text/plain": [
       "(28, 28, 1)"
      ]
     },
     "execution_count": 5,
     "metadata": {},
     "output_type": "execute_result"
    }
   ],
   "source": [
    "image_shape = mnist_train_x[0].shape\n",
    "image_shape"
   ]
  },
  {
   "cell_type": "code",
   "execution_count": 16,
   "metadata": {
    "colab": {
     "base_uri": "https://localhost:8080/"
    },
    "executionInfo": {
     "elapsed": 308,
     "status": "ok",
     "timestamp": 1631345047680,
     "user": {
      "displayName": "Gonçalo Rodrigues Alves Valente Oliveira",
      "photoUrl": "https://lh3.googleusercontent.com/a/default-user=s64",
      "userId": "07160244029176424287"
     },
     "user_tz": -60
    },
    "id": "vy0yeKCVP-SR",
    "outputId": "116f3f22-712b-43f8-ecf0-c22b1edb1bd6"
   },
   "outputs": [
    {
     "name": "stdout",
     "output_type": "stream",
     "text": [
      "Model: \"model_c1\"\n",
      "_________________________________________________________________\n",
      "Layer (type)                 Output Shape              Param #   \n",
      "=================================================================\n",
      "convolution_1 (Conv2D)       (None, 28, 28, 16)        160       \n",
      "_________________________________________________________________\n",
      "convolution_2 (Conv2D)       (None, 28, 28, 16)        2320      \n",
      "_________________________________________________________________\n",
      "convolution_3 (Conv2D)       (None, 28, 28, 1024)      148480    \n",
      "_________________________________________________________________\n",
      "GAP (GlobalAveragePooling2D) (None, 1024)              0         \n",
      "_________________________________________________________________\n",
      "output (Dense)               (None, 10)                10240     \n",
      "=================================================================\n",
      "Total params: 161,200\n",
      "Trainable params: 161,200\n",
      "Non-trainable params: 0\n",
      "_________________________________________________________________\n"
     ]
    }
   ],
   "source": [
    "import tensorflow as tf\n",
    "\n",
    "model_name_c1 = \"model_c1\"\n",
    "model_description_c1 =\\\n",
    "'''\n",
    "SAPO\n",
    "'''\n",
    "model_c1 = tf.keras.Sequential(name = model_name_c1)\n",
    "model_c1.add(tf.keras.layers.Input(image_shape))\n",
    "model_c1.add(tf.keras.layers.Conv2D(filters = 16, \n",
    "                                    kernel_size = (3,3),\n",
    "                                    activation=\"relu\", \n",
    "                                    padding=\"same\", \n",
    "                                    name=\"convolution_1\"))\n",
    "model_c1.add(tf.keras.layers.Conv2D(filters = 16, \n",
    "                                    kernel_size = (3,3),\n",
    "                                    activation=\"relu\", \n",
    "                                    padding=\"same\", \n",
    "                                    name=\"convolution_2\"))\n",
    "model_c1.add(tf.keras.layers.Conv2D(filters = 1024, \n",
    "                                    kernel_size = (3,3),\n",
    "                                    activation=\"relu\", \n",
    "                                    padding=\"same\", \n",
    "                                    name=\"convolution_3\"))\n",
    "# model_c1.add(tf.keras.layers.Conv2D(filters = 512, \n",
    "#                                     kernel_size = (3,3),\n",
    "#                                     activation=\"relu\", \n",
    "#                                     padding=\"same\", \n",
    "#                                     name=\"convolution_4\"))\n",
    "# model_c1.add(tf.keras.layers.AveragePooling2D(pool_size = 28, name = \"GAP\", strides = (1,1))) # GAP = global average pooling\n",
    "# model_c1.add(tf.keras.layers.Flatten(name='flatten'))\n",
    "model_c1.add(tf.keras.layers.GlobalAveragePooling2D(name = \"GAP\"))\n",
    "model_c1.add(tf.keras.layers.Dense(10, \n",
    "                                   activation='softmax', \n",
    "                                   name='output',\n",
    "                                   use_bias = False))\n",
    "model_c1.compile(loss='sparse_categorical_crossentropy', \n",
    "                 optimizer='sgd', \n",
    "                 metrics=['accuracy'])\n",
    "model_c1.summary()\n",
    "model_description_c1 = model_summary(model_c1) + model_description_c1\n",
    "model_description_c1 = model_description_c1.replace(\"\\n\",\"\\\\n\")"
   ]
  },
  {
   "cell_type": "markdown",
   "metadata": {
    "id": "ix6m-S-IT63U"
   },
   "source": [
    "## Define functions"
   ]
  },
  {
   "cell_type": "markdown",
   "metadata": {
    "id": "5f1DXgSyUDDi"
   },
   "source": [
    "## Test and train"
   ]
  },
  {
   "cell_type": "code",
   "execution_count": null,
   "metadata": {
    "colab": {
     "base_uri": "https://localhost:8080/"
    },
    "id": "rKh-tvn0T9ig",
    "outputId": "6fb8d536-383d-49c0-9e44-e42b7afca3a4"
   },
   "outputs": [
    {
     "name": "stdout",
     "output_type": "stream",
     "text": [
      "Epoch 1/10000\n",
      "188/188 [==============================] - 725s 4s/step - loss: 2.3020 - accuracy: 0.0995 - val_loss: 2.3017 - val_accuracy: 0.0983\n",
      "\n",
      "Epoch 00001: val_accuracy improved from -inf to 0.09833, saving model to model_c1.h5\n",
      "Epoch 2/10000\n",
      "188/188 [==============================] - 727s 4s/step - loss: 2.3013 - accuracy: 0.0995 - val_loss: 2.3009 - val_accuracy: 0.0984\n",
      "\n",
      "Epoch 00002: val_accuracy improved from 0.09833 to 0.09842, saving model to model_c1.h5\n",
      "Epoch 3/10000\n",
      "188/188 [==============================] - 726s 4s/step - loss: 2.3006 - accuracy: 0.0995 - val_loss: 2.3002 - val_accuracy: 0.0981\n",
      "\n",
      "Epoch 00003: val_accuracy did not improve from 0.09842\n",
      "Epoch 4/10000\n",
      "188/188 [==============================] - 725s 4s/step - loss: 2.2998 - accuracy: 0.0971 - val_loss: 2.2994 - val_accuracy: 0.0926\n",
      "\n",
      "Epoch 00004: val_accuracy did not improve from 0.09842\n",
      "Epoch 5/10000\n",
      "188/188 [==============================] - 726s 4s/step - loss: 2.2989 - accuracy: 0.0987 - val_loss: 2.2984 - val_accuracy: 0.0979\n",
      "\n",
      "Epoch 00005: val_accuracy did not improve from 0.09842\n",
      "Epoch 6/10000\n",
      "150/188 [======================>.......] - ETA: 2:16 - loss: 2.2980 - accuracy: 0.0989"
     ]
    }
   ],
   "source": [
    "with open(\"results.csv\", \"w+\") as f:\n",
    "  f.write(\"model name;model description;training time;train accuracy;test accuracy\\n\")\n",
    "test_train(model_c1, model_name_c1, model_description_c1)"
   ]
  },
  {
   "cell_type": "code",
   "execution_count": null,
   "metadata": {
    "id": "JJjtYo9kuisN"
   },
   "outputs": [],
   "source": []
  }
 ],
 "metadata": {
  "colab": {
   "authorship_tag": "ABX9TyNmgvfyOS5Tm50tJUIVzqAl",
   "collapsed_sections": [],
   "name": "CAM - class activation map.ipynb",
   "provenance": []
  },
  "kernelspec": {
   "display_name": "Python 3",
   "language": "python",
   "name": "python3"
  },
  "language_info": {
   "codemirror_mode": {
    "name": "ipython",
    "version": 3
   },
   "file_extension": ".py",
   "mimetype": "text/x-python",
   "name": "python",
   "nbconvert_exporter": "python",
   "pygments_lexer": "ipython3",
   "version": "3.7.4"
  },
  "widgets": {
   "application/vnd.jupyter.widget-state+json": {
    "07c03a33f6ce46c6b24debc28b3d0397": {
     "model_module": "@jupyter-widgets/controls",
     "model_module_version": "1.5.0",
     "model_name": "HBoxModel",
     "state": {
      "_dom_classes": [],
      "_model_module": "@jupyter-widgets/controls",
      "_model_module_version": "1.5.0",
      "_model_name": "HBoxModel",
      "_view_count": null,
      "_view_module": "@jupyter-widgets/controls",
      "_view_module_version": "1.5.0",
      "_view_name": "HBoxView",
      "box_style": "",
      "children": [
       "IPY_MODEL_3d112511a68b43868483f7507a51cde0",
       "IPY_MODEL_f152fbda401a4067888dd4c493e465a8",
       "IPY_MODEL_4fefd6c44fea401ea5fe6b9e9683f480"
      ],
      "layout": "IPY_MODEL_d9fb4899e1e54d2e9702a440e23bc5c6"
     }
    },
    "3d112511a68b43868483f7507a51cde0": {
     "model_module": "@jupyter-widgets/controls",
     "model_module_version": "1.5.0",
     "model_name": "HTMLModel",
     "state": {
      "_dom_classes": [],
      "_model_module": "@jupyter-widgets/controls",
      "_model_module_version": "1.5.0",
      "_model_name": "HTMLModel",
      "_view_count": null,
      "_view_module": "@jupyter-widgets/controls",
      "_view_module_version": "1.5.0",
      "_view_name": "HTMLView",
      "description": "",
      "description_tooltip": null,
      "layout": "IPY_MODEL_fea8bda4836e46c98c2c88c2a9ef0b15",
      "placeholder": "​",
      "style": "IPY_MODEL_411f745363c3410993150003df39d22d",
      "value": "Dl Completed...: 100%"
     }
    },
    "411f745363c3410993150003df39d22d": {
     "model_module": "@jupyter-widgets/controls",
     "model_module_version": "1.5.0",
     "model_name": "DescriptionStyleModel",
     "state": {
      "_model_module": "@jupyter-widgets/controls",
      "_model_module_version": "1.5.0",
      "_model_name": "DescriptionStyleModel",
      "_view_count": null,
      "_view_module": "@jupyter-widgets/base",
      "_view_module_version": "1.2.0",
      "_view_name": "StyleView",
      "description_width": ""
     }
    },
    "4fefd6c44fea401ea5fe6b9e9683f480": {
     "model_module": "@jupyter-widgets/controls",
     "model_module_version": "1.5.0",
     "model_name": "HTMLModel",
     "state": {
      "_dom_classes": [],
      "_model_module": "@jupyter-widgets/controls",
      "_model_module_version": "1.5.0",
      "_model_name": "HTMLModel",
      "_view_count": null,
      "_view_module": "@jupyter-widgets/controls",
      "_view_module_version": "1.5.0",
      "_view_name": "HTMLView",
      "description": "",
      "description_tooltip": null,
      "layout": "IPY_MODEL_8f81689417ed4041a30039d8c96dc92f",
      "placeholder": "​",
      "style": "IPY_MODEL_f6a1aa420202435584ecd3701e29251c",
      "value": " 4/4 [00:00&lt;00:00, 11.45 file/s]"
     }
    },
    "8f81689417ed4041a30039d8c96dc92f": {
     "model_module": "@jupyter-widgets/base",
     "model_module_version": "1.2.0",
     "model_name": "LayoutModel",
     "state": {
      "_model_module": "@jupyter-widgets/base",
      "_model_module_version": "1.2.0",
      "_model_name": "LayoutModel",
      "_view_count": null,
      "_view_module": "@jupyter-widgets/base",
      "_view_module_version": "1.2.0",
      "_view_name": "LayoutView",
      "align_content": null,
      "align_items": null,
      "align_self": null,
      "border": null,
      "bottom": null,
      "display": null,
      "flex": null,
      "flex_flow": null,
      "grid_area": null,
      "grid_auto_columns": null,
      "grid_auto_flow": null,
      "grid_auto_rows": null,
      "grid_column": null,
      "grid_gap": null,
      "grid_row": null,
      "grid_template_areas": null,
      "grid_template_columns": null,
      "grid_template_rows": null,
      "height": null,
      "justify_content": null,
      "justify_items": null,
      "left": null,
      "margin": null,
      "max_height": null,
      "max_width": null,
      "min_height": null,
      "min_width": null,
      "object_fit": null,
      "object_position": null,
      "order": null,
      "overflow": null,
      "overflow_x": null,
      "overflow_y": null,
      "padding": null,
      "right": null,
      "top": null,
      "visibility": null,
      "width": null
     }
    },
    "9855a505fe9d482aad1ec2532139675c": {
     "model_module": "@jupyter-widgets/base",
     "model_module_version": "1.2.0",
     "model_name": "LayoutModel",
     "state": {
      "_model_module": "@jupyter-widgets/base",
      "_model_module_version": "1.2.0",
      "_model_name": "LayoutModel",
      "_view_count": null,
      "_view_module": "@jupyter-widgets/base",
      "_view_module_version": "1.2.0",
      "_view_name": "LayoutView",
      "align_content": null,
      "align_items": null,
      "align_self": null,
      "border": null,
      "bottom": null,
      "display": null,
      "flex": null,
      "flex_flow": null,
      "grid_area": null,
      "grid_auto_columns": null,
      "grid_auto_flow": null,
      "grid_auto_rows": null,
      "grid_column": null,
      "grid_gap": null,
      "grid_row": null,
      "grid_template_areas": null,
      "grid_template_columns": null,
      "grid_template_rows": null,
      "height": null,
      "justify_content": null,
      "justify_items": null,
      "left": null,
      "margin": null,
      "max_height": null,
      "max_width": null,
      "min_height": null,
      "min_width": null,
      "object_fit": null,
      "object_position": null,
      "order": null,
      "overflow": null,
      "overflow_x": null,
      "overflow_y": null,
      "padding": null,
      "right": null,
      "top": null,
      "visibility": null,
      "width": null
     }
    },
    "d53d671f83ef4d72a68760c53fcd25dc": {
     "model_module": "@jupyter-widgets/controls",
     "model_module_version": "1.5.0",
     "model_name": "ProgressStyleModel",
     "state": {
      "_model_module": "@jupyter-widgets/controls",
      "_model_module_version": "1.5.0",
      "_model_name": "ProgressStyleModel",
      "_view_count": null,
      "_view_module": "@jupyter-widgets/base",
      "_view_module_version": "1.2.0",
      "_view_name": "StyleView",
      "bar_color": null,
      "description_width": ""
     }
    },
    "d9fb4899e1e54d2e9702a440e23bc5c6": {
     "model_module": "@jupyter-widgets/base",
     "model_module_version": "1.2.0",
     "model_name": "LayoutModel",
     "state": {
      "_model_module": "@jupyter-widgets/base",
      "_model_module_version": "1.2.0",
      "_model_name": "LayoutModel",
      "_view_count": null,
      "_view_module": "@jupyter-widgets/base",
      "_view_module_version": "1.2.0",
      "_view_name": "LayoutView",
      "align_content": null,
      "align_items": null,
      "align_self": null,
      "border": null,
      "bottom": null,
      "display": null,
      "flex": null,
      "flex_flow": null,
      "grid_area": null,
      "grid_auto_columns": null,
      "grid_auto_flow": null,
      "grid_auto_rows": null,
      "grid_column": null,
      "grid_gap": null,
      "grid_row": null,
      "grid_template_areas": null,
      "grid_template_columns": null,
      "grid_template_rows": null,
      "height": null,
      "justify_content": null,
      "justify_items": null,
      "left": null,
      "margin": null,
      "max_height": null,
      "max_width": null,
      "min_height": null,
      "min_width": null,
      "object_fit": null,
      "object_position": null,
      "order": null,
      "overflow": null,
      "overflow_x": null,
      "overflow_y": null,
      "padding": null,
      "right": null,
      "top": null,
      "visibility": null,
      "width": null
     }
    },
    "f152fbda401a4067888dd4c493e465a8": {
     "model_module": "@jupyter-widgets/controls",
     "model_module_version": "1.5.0",
     "model_name": "FloatProgressModel",
     "state": {
      "_dom_classes": [],
      "_model_module": "@jupyter-widgets/controls",
      "_model_module_version": "1.5.0",
      "_model_name": "FloatProgressModel",
      "_view_count": null,
      "_view_module": "@jupyter-widgets/controls",
      "_view_module_version": "1.5.0",
      "_view_name": "ProgressView",
      "bar_style": "success",
      "description": "",
      "description_tooltip": null,
      "layout": "IPY_MODEL_9855a505fe9d482aad1ec2532139675c",
      "max": 4,
      "min": 0,
      "orientation": "horizontal",
      "style": "IPY_MODEL_d53d671f83ef4d72a68760c53fcd25dc",
      "value": 4
     }
    },
    "f6a1aa420202435584ecd3701e29251c": {
     "model_module": "@jupyter-widgets/controls",
     "model_module_version": "1.5.0",
     "model_name": "DescriptionStyleModel",
     "state": {
      "_model_module": "@jupyter-widgets/controls",
      "_model_module_version": "1.5.0",
      "_model_name": "DescriptionStyleModel",
      "_view_count": null,
      "_view_module": "@jupyter-widgets/base",
      "_view_module_version": "1.2.0",
      "_view_name": "StyleView",
      "description_width": ""
     }
    },
    "fea8bda4836e46c98c2c88c2a9ef0b15": {
     "model_module": "@jupyter-widgets/base",
     "model_module_version": "1.2.0",
     "model_name": "LayoutModel",
     "state": {
      "_model_module": "@jupyter-widgets/base",
      "_model_module_version": "1.2.0",
      "_model_name": "LayoutModel",
      "_view_count": null,
      "_view_module": "@jupyter-widgets/base",
      "_view_module_version": "1.2.0",
      "_view_name": "LayoutView",
      "align_content": null,
      "align_items": null,
      "align_self": null,
      "border": null,
      "bottom": null,
      "display": null,
      "flex": null,
      "flex_flow": null,
      "grid_area": null,
      "grid_auto_columns": null,
      "grid_auto_flow": null,
      "grid_auto_rows": null,
      "grid_column": null,
      "grid_gap": null,
      "grid_row": null,
      "grid_template_areas": null,
      "grid_template_columns": null,
      "grid_template_rows": null,
      "height": null,
      "justify_content": null,
      "justify_items": null,
      "left": null,
      "margin": null,
      "max_height": null,
      "max_width": null,
      "min_height": null,
      "min_width": null,
      "object_fit": null,
      "object_position": null,
      "order": null,
      "overflow": null,
      "overflow_x": null,
      "overflow_y": null,
      "padding": null,
      "right": null,
      "top": null,
      "visibility": null,
      "width": null
     }
    }
   }
  }
 },
 "nbformat": 4,
 "nbformat_minor": 1
}
